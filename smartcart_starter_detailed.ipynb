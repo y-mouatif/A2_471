{
 "cells": [
  {
   "attachments": {},
   "cell_type": "markdown",
   "id": "6a742351",
   "metadata": {},
   "source": [
    "# 🛍️ SmartCart Starter Notebook\n",
    "This notebook will guide you through your group project on collaborative filtering and association rule mining for an e-commerce recommender system."
   ]
  },
  {
   "attachments": {},
   "cell_type": "markdown",
   "id": "20914f63",
   "metadata": {},
   "source": [
    "## 📥 Part 1: Data Preprocessing\n",
    "Steps:\n",
    "- Load `ecommerce_user_data.csv` and `product_details.csv`\n",
    "- Merge data if necessary\n",
    "- Create user-item matrix\n",
    "- Fill missing ratings with 0\n",
    "- Group user behavior by category"
   ]
  },
  {
   "cell_type": "code",
   "execution_count": null,
   "id": "f7d42a85",
   "metadata": {},
   "outputs": [],
   "source": [
    "# Load data\n",
    "import pandas as pd\n",
    "\n",
    "user_data = pd.read_csv('data/ecommerce_user_data.csv')\n",
    "product_data = pd.read_csv('data/product_details.csv')\n",
    "\n",
    "print(user_data.head())\n",
    "print(product_data.head())"
   ]
  },
  {
   "cell_type": "code",
   "execution_count": null,
   "id": "a417d6de",
   "metadata": {},
   "outputs": [],
   "source": [
    "# Create user-item matrix\n",
    "user_item_matrix = user_data.pivot_table(index='UserID', columns='ProductID', values='Rating')\n",
    "user_item_matrix_filled = user_item_matrix.fillna(0)\n",
    "user_item_matrix_filled.head()"
   ]
  },
  {
   "cell_type": "code",
   "execution_count": null,
   "id": "02c883fe",
   "metadata": {},
   "outputs": [],
   "source": [
    "# Aggregate user behavior by category\n",
    "user_category_agg = user_data.groupby(['UserID', 'Category']).agg({'Rating': ['count', 'mean']}).reset_index()\n",
    "user_category_agg.columns = ['UserID', 'Category', 'TotalInteractions', 'AverageRating']\n",
    "user_category_agg.head()"
   ]
  },
  {
   "attachments": {},
   "cell_type": "markdown",
   "id": "7ba0f385",
   "metadata": {},
   "source": [
    "## 🤝 Part 2: User-Based Collaborative Filtering\n",
    "Steps:\n",
    "- Use cosine similarity to compare users\n",
    "- Recommend top-N products based on similar users\n",
    "- Evaluate with Precision@K and Coverage"
   ]
  },
  {
   "cell_type": "code",
   "execution_count": null,
   "id": "2e2e1b30",
   "metadata": {},
   "outputs": [],
   "source": [
    "# Compute cosine similarity\n",
    "from sklearn.metrics.pairwise import cosine_similarity\n",
    "\n",
    "# Compute cosine similarity between users\n",
    "user_similarity = cosine_similarity(user_item_matrix_filled)\n",
    "\n",
    "# Put into a DataFrame for easier reading\n",
    "user_similarity_df = pd.DataFrame(user_similarity, index=user_item_matrix_filled.index, columns=user_item_matrix_filled.index)\n",
    "print(user_similarity_df.head())"
   ]
  },
  {
   "cell_type": "code",
   "execution_count": null,
   "id": "fd12b458",
   "metadata": {},
   "outputs": [],
   "source": [
    "# Get Top-N Similar Users for Each User\n",
    "def get_top_n_similar_users(user_id, n=5):\n",
    "    if user_id not in user_similarity_df:\n",
    "        return []\n",
    "    # Sort users by similarity score\n",
    "    sorted_users = user_similarity_df[user_id].sort_values(ascending=False)\n",
    "    # Exclude the user themself\n",
    "    top_users = sorted_users.drop(user_id).head(n)\n",
    "    return top_users.index.tolist()\n",
    "\n",
    "# Recommend Products Based on Similar Users\n",
    "def recommend_products(user_id, n_similar=5, n_recommendations=5):\n",
    "    if user_id not in user_item_matrix_filled.index:\n",
    "        return []\n",
    "    \n",
    "    top_users = get_top_n_similar_users(user_id, n_similar)\n",
    "    \n",
    "    user_ratings = user_item_matrix_filled.loc[user_id]\n",
    "    unseen_products = user_ratings[user_ratings == 0].index\n",
    "\n",
    "    # Aggregate ratings from similar users\n",
    "    similar_users_ratings = user_item_matrix_filled.loc[top_users]\n",
    "    avg_ratings = similar_users_ratings[unseen_products].mean(axis=0)\n",
    "    \n",
    "    top_products = avg_ratings.sort_values(ascending=False).head(n_recommendations)\n",
    "    \n",
    "    return top_products.index.tolist()\n",
    "\n",
    "# Generate Recommendations for All Users\n",
    "recommendations = {}\n",
    "for user in user_item_matrix_filled.index:\n",
    "    recommendations[user] = recommend_products(user, n_similar=5, n_recommendations=5)\n",
    "\n",
    "# Convert to DataFrame\n",
    "recommendations_df = pd.DataFrame.from_dict(recommendations, orient='index')\n",
    "recommendations_df.columns = [f\"Rec_{i+1}\" for i in range(recommendations_df.shape[1])]\n",
    "print(recommendations_df.head())"
   ]
  },
  {
   "cell_type": "code",
   "execution_count": null,
   "id": "43c05cb7",
   "metadata": {},
   "outputs": [],
   "source": [
    "# Evaluate with Precision@K\n",
    "def precision_at_k(user_id, recommended_items, k=5):\n",
    "    actual_items = set(ecommerce_data[ecommerce_data['UserID'] == user_id]['ProductID'])\n",
    "    recommended_items = set(recommended_items[:k])\n",
    "    if not actual_items:\n",
    "        return 0.0\n",
    "    return len(actual_items.intersection(recommended_items)) / k\n",
    "\n",
    "precision_scores = []\n",
    "for user in recommendations_df.index:\n",
    "    recommended = recommendations_df.loc[user].dropna().tolist()\n",
    "    precision_scores.append(precision_at_k(user, recommended))\n",
    "\n",
    "print(f\"\\nAverage Precision@5: {sum(precision_scores) / len(precision_scores):.2f}\")"
   ]
  },
  {
   "attachments": {},
   "cell_type": "markdown",
   "id": "ebbeaa43",
   "metadata": {},
   "source": [
    "## 🔍 Part 3: Association Rule Mining (Apriori)\n",
    "Steps:\n",
    "- Convert user-product interactions to transaction format\n",
    "- Apply Apriori algorithm to find frequent itemsets\n",
    "- Generate association rules (support, confidence, lift)"
   ]
  },
  {
   "cell_type": "code",
   "execution_count": null,
   "id": "43ae1abe",
   "metadata": {},
   "outputs": [],
   "source": [
    "# Convert to transaction format\n",
    "from mlxtend.preprocessing import TransactionEncoder\n",
    "transactions = user_data.groupby('UserID')['ProductID'].apply(list).tolist()\n",
    "te = TransactionEncoder()\n",
    "te_ary = te.fit(transactions).transform(transactions)\n",
    "df_trans = pd.DataFrame(te_ary, columns=te.columns_)"
   ]
  },
  {
   "cell_type": "code",
   "execution_count": null,
   "id": "0bf18eea",
   "metadata": {},
   "outputs": [],
   "source": [
    "# Apply Apriori and generate rules\n",
    "from mlxtend.frequent_patterns import apriori, association_rules\n",
    "frequent_itemsets = apriori(df_trans, min_support=0.05, use_colnames=True)\n",
    "rules = association_rules(frequent_itemsets, metric='confidence', min_threshold=0.5)\n",
    "rules[['antecedents', 'consequents', 'support', 'confidence', 'lift']].head()"
   ]
  },
  {
   "attachments": {},
   "cell_type": "markdown",
   "id": "651bef33",
   "metadata": {},
   "source": [
    "## 📊 Part 4: Visualization\n",
    "Steps:\n",
    "- Plot user similarity heatmap\n",
    "- Plot top frequent itemsets\n",
    "- Visualize top recommendations"
   ]
  },
  {
   "cell_type": "code",
   "execution_count": null,
   "id": "0e5c33d4",
   "metadata": {},
   "outputs": [],
   "source": [
    "# Heatmap of user similarity\n",
    "import seaborn as sns\n",
    "import matplotlib.pyplot as plt\n",
    "\n",
    "plt.figure(figsize=(10, 8))\n",
    "sns.heatmap(similarity_df, cmap='YlGnBu')\n",
    "plt.title('User Similarity Heatmap')\n",
    "plt.show()"
   ]
  },
  {
   "cell_type": "code",
   "execution_count": null,
   "id": "dda9498e",
   "metadata": {},
   "outputs": [],
   "source": [
    "# Frequent itemsets bar chart\n",
    "frequent_itemsets.nlargest(10, 'support').plot(kind='bar', x='itemsets', y='support', legend=False)\n",
    "plt.title('Top 10 Frequent Itemsets')\n",
    "plt.xticks(rotation=45)\n",
    "plt.tight_layout()\n",
    "plt.show()"
   ]
  },
  {
   "attachments": {},
   "cell_type": "markdown",
   "id": "89b8b9e4",
   "metadata": {},
   "source": [
    "## 🧠 Part 5: Conceptual Questions\n",
    "Answer the following questions in your report:\n",
    "1. How does data sparsity affect performance?\n",
    "2. What kinds of product bundles were discovered?\n",
    "3. What improvements would you suggest for real-world deployment?"
   ]
  }
 ],
 "metadata": {
  "language_info": {
   "name": "python"
  }
 },
 "nbformat": 4,
 "nbformat_minor": 5
}
